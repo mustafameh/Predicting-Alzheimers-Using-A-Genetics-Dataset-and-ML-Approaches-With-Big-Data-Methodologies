{
 "cells": [
  {
   "cell_type": "markdown",
   "metadata": {},
   "source": [
    "This notebook is used to create chunks of the orignal dataset into 20 csv files each file contains equal number of columns with ID concatenated to the left of each side "
   ]
  },
  {
   "cell_type": "code",
   "execution_count": 1,
   "metadata": {},
   "outputs": [],
   "source": [
    "import pandas as pd\n",
    "csv_file = r'C:\\Users\\hcymm3\\Desktop\\Dementia\\Dementia\\JanBDRcount.raw'\n"
   ]
  },
  {
   "cell_type": "code",
   "execution_count": 2,
   "metadata": {},
   "outputs": [
    {
     "name": "stdout",
     "output_type": "stream",
     "text": [
      "297684\n"
     ]
    }
   ],
   "source": [
    "# Read just the first line of the CSV file to get column names\n",
    "with open(csv_file, 'r') as f:\n",
    "    first_line = f.readline().strip()\n",
    "column_names = first_line.split(' ')  # Assuming space is the delimiter\n",
    "print(len(column_names))"
   ]
  },
  {
   "cell_type": "code",
   "execution_count": 3,
   "metadata": {},
   "outputs": [
    {
     "name": "stdout",
     "output_type": "stream",
     "text": [
      "Processing columns 0 to 14883...\n",
      "Processing columns 14884 to 29767...\n",
      "Processing columns 29768 to 44651...\n",
      "Processing columns 44652 to 59535...\n",
      "Processing columns 59536 to 74419...\n",
      "Processing columns 74420 to 89303...\n",
      "Processing columns 89304 to 104187...\n",
      "Processing columns 104188 to 119071...\n",
      "Processing columns 119072 to 133955...\n",
      "Processing columns 133956 to 148839...\n",
      "Processing columns 148840 to 163723...\n",
      "Processing columns 163724 to 178607...\n",
      "Processing columns 178608 to 193491...\n",
      "Processing columns 193492 to 208375...\n",
      "Processing columns 208376 to 223259...\n",
      "Processing columns 223260 to 238143...\n",
      "Processing columns 238144 to 253027...\n",
      "Processing columns 253028 to 267911...\n",
      "Processing columns 267912 to 282795...\n",
      "Processing columns 282796 to 297683...\n"
     ]
    }
   ],
   "source": [
    "\n",
    "# Define the number of splits (in our case 20?)\n",
    "num_splits = 20\n",
    "# Calculate the number of columns in each split\n",
    "columns_per_split = len(column_names) // num_splits\n",
    "\n",
    "# Read just the first column (FID column) of the CSV file\n",
    "iid_df = pd.read_csv(csv_file, sep=' ', usecols=[1])\n",
    "target_df = pd.read_csv(csv_file, sep=' ', usecols=[5])\n",
    "\n",
    "# Iterate over the columns and split them into separate files\n",
    "for i in range(num_splits):\n",
    "    start_idx = i * columns_per_split\n",
    "    end_idx = start_idx + columns_per_split if i < num_splits - 1 else len(column_names)\n",
    "    \n",
    "    print(f\"Processing columns {start_idx} to {end_idx - 1}...\")\n",
    "    \n",
    "    # Read the specific columns for the split\n",
    "    usecols = list(range(start_idx, end_idx))\n",
    "    df = pd.read_csv(csv_file, sep=' ', usecols=usecols)\n",
    "    # Fill missing values in categorical columns with the most frequent value\n",
    "    df.fillna(df.mode().iloc[0], inplace=True)\n",
    "    \n",
    "    #Drop SID, MAT , PAT\n",
    "    if i ==0:\n",
    "        # Drop columns at indexes 0, 2, 3, \n",
    "        df = df.drop(df.columns[[0, 2, 3]], axis=1)\n",
    "        # Swap Phenotype and sex columns \n",
    "        df[df.columns[1]], df[df.columns[2]] = df[df.columns[2]], df[df.columns[1]].copy()\n",
    "    \n",
    "    # Concatenate the identifier columns with the split DataFrame to the left side\n",
    "    dfs_to_concat = [iid_df,target_df]\n",
    "    if i > 0: #Dont need to concatenate for first split\n",
    "        for identifier_df in reversed(dfs_to_concat):\n",
    "            df = pd.concat([identifier_df, df], axis=1)\n",
    "    \n",
    "    # Write to CSV\n",
    "    output_file = f'split_{i + 1}.csv'\n",
    "    df.to_csv(output_file, index=False)\n"
   ]
  }
 ],
 "metadata": {
  "kernelspec": {
   "display_name": "base",
   "language": "python",
   "name": "python3"
  },
  "language_info": {
   "codemirror_mode": {
    "name": "ipython",
    "version": 3
   },
   "file_extension": ".py",
   "mimetype": "text/x-python",
   "name": "python",
   "nbconvert_exporter": "python",
   "pygments_lexer": "ipython3",
   "version": "3.11.9"
  }
 },
 "nbformat": 4,
 "nbformat_minor": 2
}
